{
 "cells": [
  {
   "cell_type": "markdown",
   "metadata": {},
   "source": [
    "# Data analysis on SUV dataset using the Logistic Regression model\n",
    "## to predict wheather the customer will buy the SUV or not"
   ]
  },
  {
   "cell_type": "code",
   "execution_count": 2,
   "metadata": {},
   "outputs": [
    {
     "data": {
      "text/html": [
       "<div>\n",
       "<style scoped>\n",
       "    .dataframe tbody tr th:only-of-type {\n",
       "        vertical-align: middle;\n",
       "    }\n",
       "\n",
       "    .dataframe tbody tr th {\n",
       "        vertical-align: top;\n",
       "    }\n",
       "\n",
       "    .dataframe thead th {\n",
       "        text-align: right;\n",
       "    }\n",
       "</style>\n",
       "<table border=\"1\" class=\"dataframe\">\n",
       "  <thead>\n",
       "    <tr style=\"text-align: right;\">\n",
       "      <th></th>\n",
       "      <th>User ID</th>\n",
       "      <th>Gender</th>\n",
       "      <th>Age</th>\n",
       "      <th>EstimatedSalary</th>\n",
       "      <th>Purchased</th>\n",
       "    </tr>\n",
       "  </thead>\n",
       "  <tbody>\n",
       "    <tr>\n",
       "      <th>0</th>\n",
       "      <td>15624510</td>\n",
       "      <td>Male</td>\n",
       "      <td>19</td>\n",
       "      <td>19000</td>\n",
       "      <td>0</td>\n",
       "    </tr>\n",
       "    <tr>\n",
       "      <th>1</th>\n",
       "      <td>15810944</td>\n",
       "      <td>Male</td>\n",
       "      <td>35</td>\n",
       "      <td>20000</td>\n",
       "      <td>0</td>\n",
       "    </tr>\n",
       "  </tbody>\n",
       "</table>\n",
       "</div>"
      ],
      "text/plain": [
       "    User ID Gender  Age  EstimatedSalary  Purchased\n",
       "0  15624510   Male   19            19000          0\n",
       "1  15810944   Male   35            20000          0"
      ]
     },
     "execution_count": 2,
     "metadata": {},
     "output_type": "execute_result"
    }
   ],
   "source": [
    "import seaborn as sns\n",
    "import pandas as pd\n",
    "import numpy as np\n",
    "import matplotlib.pyplot as plt\n",
    "suv = pd.read_csv(\"suv_data.csv\")\n",
    "suv.head(2)"
   ]
  },
  {
   "cell_type": "markdown",
   "metadata": {},
   "source": [
    "### Data cleaning"
   ]
  },
  {
   "cell_type": "code",
   "execution_count": 3,
   "metadata": {},
   "outputs": [],
   "source": [
    "suv.drop(\"User ID\",axis= 1,inplace = True)\n",
    "#sns.heatmap(suv.isna())"
   ]
  },
  {
   "cell_type": "markdown",
   "metadata": {},
   "source": [
    "### Plotting data in order to find outliers"
   ]
  },
  {
   "cell_type": "code",
   "execution_count": 4,
   "metadata": {},
   "outputs": [
    {
     "data": {
      "image/png": "[encoded data removed]",
      "text/plain": [
       "<Figure size 432x288 with 1 Axes>"
      ]
     },
     "metadata": {
      "needs_background": "light"
     },
     "output_type": "display_data"
    },
    {
     "data": {
      "image/png": "[encoded data removed]",
      "text/plain": [
       "<Figure size 432x288 with 1 Axes>"
      ]
     },
     "metadata": {
      "needs_background": "light"
     },
     "output_type": "display_data"
    },
    {
     "data": {
      "text/plain": [
       "<matplotlib.axes._subplots.AxesSubplot at 0xa125748>"
      ]
     },
     "execution_count": 4,
     "metadata": {},
     "output_type": "execute_result"
    },
    {
     "data": {
      "image/png": "[encoded data removed]",
      "text/plain": [
       "<Figure size 432x288 with 1 Axes>"
      ]
     },
     "metadata": {
      "needs_background": "light"
     },
     "output_type": "display_data"
    }
   ],
   "source": [
    "suv.EstimatedSalary.hist()\n",
    "plt.show()\n",
    "sns.countplot(\"Purchased\",hue = \"Gender\",data= suv)\n",
    "plt.show()\n",
    "suv.Age.hist( )"
   ]
  },
  {
   "cell_type": "code",
   "execution_count": 48,
   "metadata": {},
   "outputs": [
    {
     "data": {
      "text/html": [
       "<div>\n",
       "<style scoped>\n",
       "    .dataframe tbody tr th:only-of-type {\n",
       "        vertical-align: middle;\n",
       "    }\n",
       "\n",
       "    .dataframe tbody tr th {\n",
       "        vertical-align: top;\n",
       "    }\n",
       "\n",
       "    .dataframe thead th {\n",
       "        text-align: right;\n",
       "    }\n",
       "</style>\n",
       "<table border=\"1\" class=\"dataframe\">\n",
       "  <thead>\n",
       "    <tr style=\"text-align: right;\">\n",
       "      <th></th>\n",
       "      <th>Gender</th>\n",
       "      <th>Age</th>\n",
       "      <th>EstimatedSalary</th>\n",
       "      <th>Purchased</th>\n",
       "      <th>Male</th>\n",
       "    </tr>\n",
       "  </thead>\n",
       "  <tbody>\n",
       "    <tr>\n",
       "      <th>0</th>\n",
       "      <td>Male</td>\n",
       "      <td>19</td>\n",
       "      <td>19000</td>\n",
       "      <td>0</td>\n",
       "      <td>1</td>\n",
       "    </tr>\n",
       "    <tr>\n",
       "      <th>1</th>\n",
       "      <td>Male</td>\n",
       "      <td>35</td>\n",
       "      <td>20000</td>\n",
       "      <td>0</td>\n",
       "      <td>1</td>\n",
       "    </tr>\n",
       "  </tbody>\n",
       "</table>\n",
       "</div>"
      ],
      "text/plain": [
       "  Gender  Age  EstimatedSalary  Purchased  Male\n",
       "0   Male   19            19000          0     1\n",
       "1   Male   35            20000          0     1"
      ]
     },
     "execution_count": 48,
     "metadata": {},
     "output_type": "execute_result"
    }
   ],
   "source": [
    "gender = pd.get_dummies(suv.Gender,drop_first = True)\n",
    "suv = pd.concat([suv,gender],axis = 1)\n",
    "suv.head(2)"
   ]
  },
  {
   "cell_type": "code",
   "execution_count": 49,
   "metadata": {},
   "outputs": [],
   "source": [
    "suv.drop(\"Gender\",axis =1, inplace = True)\n"
   ]
  },
  {
   "cell_type": "code",
   "execution_count": 80,
   "metadata": {},
   "outputs": [
    {
     "data": {
      "text/html": [
       "<div>\n",
       "<style scoped>\n",
       "    .dataframe tbody tr th:only-of-type {\n",
       "        vertical-align: middle;\n",
       "    }\n",
       "\n",
       "    .dataframe tbody tr th {\n",
       "        vertical-align: top;\n",
       "    }\n",
       "\n",
       "    .dataframe thead th {\n",
       "        text-align: right;\n",
       "    }\n",
       "</style>\n",
       "<table border=\"1\" class=\"dataframe\">\n",
       "  <thead>\n",
       "    <tr style=\"text-align: right;\">\n",
       "      <th></th>\n",
       "      <th>Age</th>\n",
       "      <th>EstimatedSalary</th>\n",
       "      <th>Purchased</th>\n",
       "      <th>Male</th>\n",
       "    </tr>\n",
       "  </thead>\n",
       "  <tbody>\n",
       "    <tr>\n",
       "      <th>0</th>\n",
       "      <td>19</td>\n",
       "      <td>19000</td>\n",
       "      <td>0</td>\n",
       "      <td>1</td>\n",
       "    </tr>\n",
       "  </tbody>\n",
       "</table>\n",
       "</div>"
      ],
      "text/plain": [
       "   Age  EstimatedSalary  Purchased  Male\n",
       "0   19            19000          0     1"
      ]
     },
     "execution_count": 80,
     "metadata": {},
     "output_type": "execute_result"
    }
   ],
   "source": [
    "suv.isna().sum()\n",
    "suv.head(1)"
   ]
  },
  {
   "cell_type": "markdown",
   "metadata": {},
   "source": [
    "### Splitting Data "
   ]
  },
  {
   "cell_type": "code",
   "execution_count": 120,
   "metadata": {},
   "outputs": [],
   "source": [
    "X = suv.drop(\"Purchased\",axis = 1)\n",
    "y = suv.Purchased"
   ]
  },
  {
   "cell_type": "markdown",
   "metadata": {},
   "source": [
    "## Training model and Testing Data using the Logistic Regression model"
   ]
  },
  {
   "cell_type": "code",
   "execution_count": 129,
   "metadata": {},
   "outputs": [
    {
     "name": "stdout",
     "output_type": "stream",
     "text": [
      "0.68\n",
      "[[68  0]\n",
      " [32  0]]\n"
     ]
    }
   ],
   "source": [
    "from sklearn.metrics import accuracy_score\n",
    "from sklearn.metrics import confusion_matrix\n",
    "from sklearn.model_selection import train_test_split\n",
    "\n",
    "X_train, X_test, y_train, y_test = train_test_split(X, y, test_size=0.250, random_state=0)\n",
    "logmodel = LogisticRegression()\n",
    "logmodel.fit(X_train,y_train)\n",
    "predictions = logmodel.predict(X_test)\n",
    "print(accuracy_score(y_test,predictions))\n",
    "print(confusion_matrix(y_test,predictions))"
   ]
  },
  {
   "cell_type": "code",
   "execution_count": 127,
   "metadata": {},
   "outputs": [
    {
     "name": "stdout",
     "output_type": "stream",
     "text": [
      "     Age  EstimatedSalary  Male\n",
      "312   38            50000     0\n",
      "160   32           100000     1\n",
      "72    20            23000     0\n",
      "177   25            22000     1\n",
      "276   38            71000     1\n",
      "..   ...              ...   ...\n",
      "73    33           113000     0\n",
      "118   40            59000     1\n",
      "189   28            32000     1\n",
      "206   55           130000     0\n",
      "355   60            34000     1\n",
      "\n",
      "[100 rows x 3 columns]\n",
      "[[-0.00952122 -0.5991405  -0.90453403]\n",
      " [-0.58079436  0.86360486  1.1055416 ]\n",
      " [-1.72334065 -1.38902299 -0.90453403]\n",
      " [-1.2472797  -1.4182779   1.1055416 ]\n",
      " [-0.00952122  0.01521255  1.1055416 ]\n",
      " [-0.29515779 -1.27200336  1.1055416 ]\n",
      " [ 1.32344945  1.27317356 -0.90453403]\n",
      " [-0.10473341 -0.51137578  1.1055416 ]\n",
      " [-0.1999456   0.13223218 -0.90453403]\n",
      " [ 1.03781288 -0.16031689  1.1055416 ]\n",
      " [-0.67600655 -1.53529753  1.1055416 ]\n",
      " [-0.29515779  0.04446746  1.1055416 ]\n",
      " [ 2.08514698  0.36627144  1.1055416 ]\n",
      " [-1.15206751 -1.59380734  1.1055416 ]\n",
      " [ 1.03781288  0.45403616  1.1055416 ]\n",
      " [ 0.18090316  0.01521255  1.1055416 ]\n",
      " [-1.91376503  0.45403616 -0.90453403]\n",
      " [ 0.37132754 -0.16031689  1.1055416 ]\n",
      " [ 1.03781288 -1.24274846  1.1055416 ]\n",
      " [ 0.94260069  0.57105579  1.1055416 ]\n",
      " [ 1.98993479  0.36627144 -0.90453403]\n",
      " [ 1.41866164  0.98062449 -0.90453403]\n",
      " [ 0.8473885  -0.80392485  1.1055416 ]\n",
      " [ 0.37132754  0.57105579 -0.90453403]\n",
      " [ 0.08569097  1.50721282  1.1055416 ]\n",
      " [-1.43770408 -1.24274846 -0.90453403]\n",
      " [-1.15206751  1.39019319 -0.90453403]\n",
      " [-1.62812846 -1.59380734 -0.90453403]\n",
      " [-1.05685532  1.94603643 -0.90453403]\n",
      " [ 0.18090316  1.06838921  1.1055416 ]\n",
      " [ 0.75217631  0.24925181  1.1055416 ]\n",
      " [-0.48558217 -0.86243466 -0.90453403]\n",
      " [-0.39036998 -0.80392485 -0.90453403]\n",
      " [ 1.51387383 -1.30125827 -0.90453403]\n",
      " [-0.10473341  0.24925181  1.1055416 ]\n",
      " [-1.15206751  0.04446746 -0.90453403]\n",
      " [ 0.37132754  1.09764412 -0.90453403]\n",
      " [ 0.46653973  1.71199717  1.1055416 ]\n",
      " [-1.91376503  0.33701653  1.1055416 ]\n",
      " [-0.86643094  0.36627144 -0.90453403]\n",
      " [ 0.8473885  -1.33051318  1.1055416 ]\n",
      " [-0.29515779  0.13223218  1.1055416 ]\n",
      " [ 0.18090316  0.2199969   1.1055416 ]\n",
      " [-0.10473341  0.2199969  -0.90453403]\n",
      " [-0.96164313  0.48329107 -0.90453403]\n",
      " [-0.77121874  1.33168338 -0.90453403]\n",
      " [-0.48558217 -0.80392485  1.1055416 ]\n",
      " [ 0.94260069 -1.18423864 -0.90453403]\n",
      " [-0.10473341  0.10297727  1.1055416 ]\n",
      " [-1.34249189  0.39552635  1.1055416 ]\n",
      " [ 0.94260069 -1.09647392  1.1055416 ]\n",
      " [-0.00952122  0.27850672 -0.90453403]\n",
      " [-1.43770408 -0.21882671  1.1055416 ]\n",
      " [ 1.22823726  2.20933059 -0.90453403]\n",
      " [ 1.7995104  -1.30125827 -0.90453403]\n",
      " [ 0.27611535 -1.18423864 -0.90453403]\n",
      " [-1.62812846  0.04446746  1.1055416 ]\n",
      " [-0.29515779 -0.39435615 -0.90453403]\n",
      " [ 0.94260069  1.77050698 -0.90453403]\n",
      " [ 1.89472259  0.71733032 -0.90453403]\n",
      " [ 0.94260069  1.97529133 -0.90453403]\n",
      " [ 1.7995104  -1.09647392 -0.90453403]\n",
      " [-0.67600655 -1.06721901 -0.90453403]\n",
      " [ 1.41866164 -1.06721901 -0.90453403]\n",
      " [-0.48558217 -0.04329726 -0.90453403]\n",
      " [ 0.08569097  0.01521255 -0.90453403]\n",
      " [ 0.27611535  0.04446746 -0.90453403]\n",
      " [ 0.08569097  0.24925181 -0.90453403]\n",
      " [-1.05685532 -0.36510124  1.1055416 ]\n",
      " [-0.39036998 -1.33051318 -0.90453403]\n",
      " [-0.48558217  2.29709531 -0.90453403]\n",
      " [ 0.94260069  0.74658523 -0.90453403]\n",
      " [-0.48558217 -0.56988559 -0.90453403]\n",
      " [ 0.8473885  -0.5991405  -0.90453403]\n",
      " [-0.77121874  1.06838921  1.1055416 ]\n",
      " [ 1.13302507 -0.77466994 -0.90453403]\n",
      " [-1.05685532  0.74658523 -0.90453403]\n",
      " [ 0.08569097 -0.27733652 -0.90453403]\n",
      " [-1.34249189 -0.45286596  1.1055416 ]\n",
      " [-0.67600655  0.10297727  1.1055416 ]\n",
      " [-1.34249189 -0.36510124  1.1055416 ]\n",
      " [ 0.27611535  0.01521255 -0.90453403]\n",
      " [ 0.8473885  -0.68690522 -0.90453403]\n",
      " [-0.96164313  0.39552635 -0.90453403]\n",
      " [ 0.8473885  -1.18423864 -0.90453403]\n",
      " [-0.77121874  0.27850672  1.1055416 ]\n",
      " [-0.10473341 -0.45286596  1.1055416 ]\n",
      " [ 1.89472259  0.89285977 -0.90453403]\n",
      " [-0.58079436  2.32635022 -0.90453403]\n",
      " [ 0.18090316  2.09231096 -0.90453403]\n",
      " [-1.15206751 -1.18423864  1.1055416 ]\n",
      " [-0.00952122 -0.27733652  1.1055416 ]\n",
      " [ 0.08569097 -0.83317976  1.1055416 ]\n",
      " [ 0.18090316  0.04446746 -0.90453403]\n",
      " [-1.2472797  -1.09647392  1.1055416 ]\n",
      " [-0.48558217  1.24391865 -0.90453403]\n",
      " [ 0.18090316 -0.33584633  1.1055416 ]\n",
      " [-0.96164313 -1.12572883  1.1055416 ]\n",
      " [ 1.60908602  1.74125208 -0.90453403]\n",
      " [ 2.08514698 -1.06721901  1.1055416 ]]\n"
     ]
    }
   ],
   "source": [
    "print(X_train)\n",
    "#print(X_test)\n",
    "print(X_train1)\n",
    "#print(X_test1)\n"
   ]
  },
  {
   "cell_type": "markdown",
   "metadata": {},
   "source": [
    "## Analysis on scaledown data"
   ]
  },
  {
   "cell_type": "code",
   "execution_count": 142,
   "metadata": {},
   "outputs": [
    {
     "name": "stdout",
     "output_type": "stream",
     "text": [
      "90.625\n",
      "[[64  3]\n",
      " [ 6 23]]\n"
     ]
    }
   ],
   "source": [
    "from sklearn.preprocessing import StandardScaler\n",
    "\n",
    "sc = StandardScaler()\n",
    "X_train, X_test, y_train, y_test = train_test_split(X, y, test_size=0.240, random_state=0)\n",
    "X_train1 = sc.fit_transform(X_train)\n",
    "X_test1 = sc.transform(X_test)\n",
    "logmodel.fit(X_train1,y_train)\n",
    "predictions1 = logmodel.predict(X_test1)\n",
    "print(accuracy_score(y_test,predictions1)*100)\n",
    "print(confusion_matrix(y_test,predictions1))"
   ]
  },
  {
   "cell_type": "markdown",
   "metadata": {},
   "source": [
    "## Here we can see that there is more accurate when the trained data is scaled \n",
    "## Accuracy score for normal data - 68%\n",
    "## Accuracy score for scaled data - 90.62%"
   ]
  }
 ],
 "metadata": {
  "kernelspec": {
   "display_name": "Python 3",
   "language": "python",
   "name": "python3"
  },
  "language_info": {
   "codemirror_mode": {
    "name": "ipython",
    "version": 3
   },
   "file_extension": ".py",
   "mimetype": "text/x-python",
   "name": "python",
   "nbconvert_exporter": "python",
   "pygments_lexer": "ipython3",
   "version": "3.8.3"
  }
 },
 "nbformat": 4,
 "nbformat_minor": 4
}
